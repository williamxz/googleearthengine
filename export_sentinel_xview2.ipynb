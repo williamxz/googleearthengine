{
  "nbformat": 4,
  "nbformat_minor": 0,
  "metadata": {
    "kernelspec": {
      "display_name": "Python 3",
      "language": "python",
      "name": "python3"
    },
    "language_info": {
      "codemirror_mode": {
        "name": "ipython",
        "version": 3
      },
      "file_extension": ".py",
      "mimetype": "text/x-python",
      "name": "python",
      "nbconvert_exporter": "python",
      "pygments_lexer": "ipython3",
      "version": "3.7.4"
    },
    "colab": {
      "name": "export_sentinel_xview2.ipynb",
      "provenance": [],
      "collapsed_sections": []
    }
  },
  "cells": [
    {
      "cell_type": "code",
      "metadata": {
        "colab": {
          "base_uri": "https://localhost:8080/"
        },
        "id": "v912_5YzkQPW",
        "outputId": "901d4143-e1d9-4776-f363-77d4b4d4fb6d"
      },
      "source": [
        "!pip install pyshp fiona"
      ],
      "execution_count": null,
      "outputs": [
        {
          "output_type": "stream",
          "text": [
            "Collecting pyshp\n",
            "  Downloading pyshp-2.1.3.tar.gz (219 kB)\n",
            "\u001b[K     |████████████████████████████████| 219 kB 5.0 MB/s \n",
            "\u001b[?25hCollecting fiona\n",
            "  Downloading Fiona-1.8.20-cp37-cp37m-manylinux1_x86_64.whl (15.4 MB)\n",
            "\u001b[K     |████████████████████████████████| 15.4 MB 35 kB/s \n",
            "\u001b[?25hRequirement already satisfied: certifi in /usr/local/lib/python3.7/dist-packages (from fiona) (2021.5.30)\n",
            "Requirement already satisfied: click>=4.0 in /usr/local/lib/python3.7/dist-packages (from fiona) (7.1.2)\n",
            "Requirement already satisfied: setuptools in /usr/local/lib/python3.7/dist-packages (from fiona) (57.2.0)\n",
            "Collecting click-plugins>=1.0\n",
            "  Downloading click_plugins-1.1.1-py2.py3-none-any.whl (7.5 kB)\n",
            "Requirement already satisfied: six>=1.7 in /usr/local/lib/python3.7/dist-packages (from fiona) (1.15.0)\n",
            "Requirement already satisfied: attrs>=17 in /usr/local/lib/python3.7/dist-packages (from fiona) (21.2.0)\n",
            "Collecting munch\n",
            "  Downloading munch-2.5.0-py2.py3-none-any.whl (10 kB)\n",
            "Collecting cligj>=0.5\n",
            "  Downloading cligj-0.7.2-py3-none-any.whl (7.1 kB)\n",
            "Building wheels for collected packages: pyshp\n",
            "  Building wheel for pyshp (setup.py) ... \u001b[?25l\u001b[?25hdone\n",
            "  Created wheel for pyshp: filename=pyshp-2.1.3-py3-none-any.whl size=37324 sha256=a75a1a29bf1e01179b34fb5f290c159a369aec5f609c165c084bcc67a351d5e4\n",
            "  Stored in directory: /root/.cache/pip/wheels/43/f8/87/53c8cd41545ba20e536ea29a8fcb5431b5f477ca50d5dffbbe\n",
            "Successfully built pyshp\n",
            "Installing collected packages: munch, cligj, click-plugins, pyshp, fiona\n",
            "Successfully installed click-plugins-1.1.1 cligj-0.7.2 fiona-1.8.20 munch-2.5.0 pyshp-2.1.3\n"
          ],
          "name": "stdout"
        }
      ]
    },
    {
      "cell_type": "code",
      "metadata": {
        "id": "DJdZ6MIoiXNV"
      },
      "source": [
        "import numpy as np\n",
        "import pandas as pd\n",
        "import datetime\n",
        "import math\n",
        "import shapefile\n",
        "from shapely import geometry\n",
        "import fiona\n",
        "from collections import defaultdict\n",
        "from google.colab import drive\n",
        "from datetime import date, timedelta\n",
        "\n",
        "drive.mount('/content/drive', force_remount=True)\n",
        "\n",
        "FOLDERNAME = 'sustainlab'\n",
        "assert FOLDERNAME is not None, \"[!] Enter the foldername.\"\n",
        "\n",
        "import sys\n",
        "sys.path.append('/content/drive/My Drive/{}'.format(FOLDERNAME))\n",
        "\n",
        "%cd /content/drive/My\\ Drive/$FOLDERNAME/"
      ],
      "execution_count": null,
      "outputs": []
    },
    {
      "cell_type": "code",
      "metadata": {
        "id": "PqI8UyvviXNW"
      },
      "source": [
        "# Import the Earth Engine Python Package\n",
        "import ee\n",
        "\n",
        "# Initialize the Earth Engine object, using the authentication credentials.\n",
        "ee.Authenticate()\n",
        "ee.Initialize()"
      ],
      "execution_count": null,
      "outputs": []
    },
    {
      "cell_type": "code",
      "metadata": {
        "id": "i7W5v8AKNkjQ"
      },
      "source": [
        "sentinel = ee.ImageCollection(\"COPERNICUS/S2\").select(['B4', 'B3', 'B2'])\n",
        "landsat = ee.ImageCollection(\"LANDSAT/LC08/C02/T1_L2\").select(['SR_B4', 'SR_B3', 'SR_B2'])"
      ],
      "execution_count": null,
      "outputs": []
    },
    {
      "cell_type": "code",
      "metadata": {
        "id": "xBqFZDOljHTR"
      },
      "source": [
        "fname = 'hold'\n",
        "device = 'sentinel'\n",
        "with fiona.open(f'shapefiles/{fname}.shp') as shapefile:\n",
        "    # geoms = [feature['geometry'] for feature in shapefile]\n",
        "    # ids = [feature['properties']['id'] for feature in shapefile]\n",
        "    # dates = [feature['properties']['date'] for feature in shapefile]\n",
        "    i = 0\n",
        "    for j in range(2900*0, len(shapefile)):\n",
        "        feature = shapefile[j]\n",
        "        i += 1\n",
        "        geom = feature['geometry']\n",
        "        geom = geom['coordinates'][0][:4]\n",
        "        xmin = geom[0][0]\n",
        "        ymin = geom[0][1]\n",
        "        xmax = geom[2][0]\n",
        "        ymax = geom[2][1]\n",
        "        geom = ee.Geometry.Rectangle([ymin, xmin, ymax, xmax])\n",
        "        # print([ymin, xmin, ymax, xmax])\n",
        "        id = feature['properties']['id']\n",
        "        capturedate = date.fromisoformat(feature['properties']['date'])\n",
        "        delta = timedelta(days=+35)\n",
        "        startdate = str(capturedate - delta)\n",
        "        enddate = str(capturedate + delta)\n",
        "        # print(id, capturedate)\n",
        "        # print(startdate, enddate)\n",
        "        img = None\n",
        "        if device == 'sentinel':\n",
        "            s2 = sentinel.filter(ee.Filter.date(startdate, enddate)).filterBounds(geom).sort('CLOUDY_PIXEL_PERCENTAGE').first()\n",
        "            img = s2.visualize(min=[0.0, 0.0, 0.0], max=[5000, 5000, 5000])\n",
        "        else:\n",
        "            s2 = landsat.filter(ee.Filter.date(startdate, enddate)).filterBounds(geom).sort('CLOUD_COVER_LAND').first()\n",
        "            img = s2.visualize(min=[0.0, 0.0, 0.0], max=[30000.0, 30000.0, 30000.0])\n",
        "        config = {\n",
        "            'folder':f'xview{device}{fname}',\n",
        "            'scale': 10,\n",
        "            'region': geom\n",
        "        }\n",
        "        task = ee.batch.Export.image.toDrive(img, id, **config)\n",
        "        task.start()\n",
        "        if i%100 == 0:\n",
        "            print(i)\n",
        "        if i == 2900:\n",
        "            print('start next from j=',j,'+1')\n",
        "            break\n",
        "    print(i, 'done')"
      ],
      "execution_count": null,
      "outputs": []
    },
    {
      "cell_type": "code",
      "metadata": {
        "id": "ulQFDsIz3ibF"
      },
      "source": [
        "while task.status()['state'] in ['READY', 'RUNNING']:\n",
        "  print(task.status())\n",
        "  time.sleep(10)\n",
        "else:\n",
        "  print(task.status())"
      ],
      "execution_count": null,
      "outputs": []
    },
    {
      "cell_type": "code",
      "metadata": {
        "id": "6Fm-k12Z46t7"
      },
      "source": [
        "!earthengine task list"
      ],
      "execution_count": null,
      "outputs": []
    },
    {
      "cell_type": "code",
      "metadata": {
        "id": "XiE1tO038ilN"
      },
      "source": [
        "!earthengine task cancel all"
      ],
      "execution_count": null,
      "outputs": []
    }
  ]
}