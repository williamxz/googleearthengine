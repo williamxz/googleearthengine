{
  "nbformat": 4,
  "nbformat_minor": 0,
  "metadata": {
    "kernelspec": {
      "display_name": "Python 3",
      "language": "python",
      "name": "python3"
    },
    "language_info": {
      "codemirror_mode": {
        "name": "ipython",
        "version": 3
      },
      "file_extension": ".py",
      "mimetype": "text/x-python",
      "name": "python",
      "nbconvert_exporter": "python",
      "pygments_lexer": "ipython3",
      "version": "3.7.4"
    },
    "colab": {
      "name": "export_sentinel_xview2.ipynb",
      "provenance": [],
      "collapsed_sections": []
    }
  },
  "cells": [
    {
      "cell_type": "code",
      "metadata": {
        "colab": {
          "base_uri": "https://localhost:8080/"
        },
        "id": "v912_5YzkQPW",
        "outputId": "901d4143-e1d9-4776-f363-77d4b4d4fb6d"
      },
      "source": [
        "!pip install pyshp fiona"
      ],
      "execution_count": null,
      "outputs": [
        {
          "output_type": "stream",
          "text": [
            "Collecting pyshp\n",
            "  Downloading pyshp-2.1.3.tar.gz (219 kB)\n",
            "\u001b[K     |████████████████████████████████| 219 kB 5.0 MB/s \n",
            "\u001b[?25hCollecting fiona\n",
            "  Downloading Fiona-1.8.20-cp37-cp37m-manylinux1_x86_64.whl (15.4 MB)\n",
            "\u001b[K     |████████████████████████████████| 15.4 MB 35 kB/s \n",
            "\u001b[?25hRequirement already satisfied: certifi in /usr/local/lib/python3.7/dist-packages (from fiona) (2021.5.30)\n",
            "Requirement already satisfied: click>=4.0 in /usr/local/lib/python3.7/dist-packages (from fiona) (7.1.2)\n",
            "Requirement already satisfied: setuptools in /usr/local/lib/python3.7/dist-packages (from fiona) (57.2.0)\n",
            "Collecting click-plugins>=1.0\n",
            "  Downloading click_plugins-1.1.1-py2.py3-none-any.whl (7.5 kB)\n",
            "Requirement already satisfied: six>=1.7 in /usr/local/lib/python3.7/dist-packages (from fiona) (1.15.0)\n",
            "Requirement already satisfied: attrs>=17 in /usr/local/lib/python3.7/dist-packages (from fiona) (21.2.0)\n",
            "Collecting munch\n",
            "  Downloading munch-2.5.0-py2.py3-none-any.whl (10 kB)\n",
            "Collecting cligj>=0.5\n",
            "  Downloading cligj-0.7.2-py3-none-any.whl (7.1 kB)\n",
            "Building wheels for collected packages: pyshp\n",
            "  Building wheel for pyshp (setup.py) ... \u001b[?25l\u001b[?25hdone\n",
            "  Created wheel for pyshp: filename=pyshp-2.1.3-py3-none-any.whl size=37324 sha256=a75a1a29bf1e01179b34fb5f290c159a369aec5f609c165c084bcc67a351d5e4\n",
            "  Stored in directory: /root/.cache/pip/wheels/43/f8/87/53c8cd41545ba20e536ea29a8fcb5431b5f477ca50d5dffbbe\n",
            "Successfully built pyshp\n",
            "Installing collected packages: munch, cligj, click-plugins, pyshp, fiona\n",
            "Successfully installed click-plugins-1.1.1 cligj-0.7.2 fiona-1.8.20 munch-2.5.0 pyshp-2.1.3\n"
          ],
          "name": "stdout"
        }
      ]
    },
    {
      "cell_type": "code",
      "metadata": {
        "id": "DJdZ6MIoiXNV",
        "colab": {
          "base_uri": "https://localhost:8080/"
        },
        "outputId": "a6dac8a8-f322-4ccf-f34e-b708fd42abce"
      },
      "source": [
        "import numpy as np\n",
        "import pandas as pd\n",
        "import datetime\n",
        "import math\n",
        "import shapefile\n",
        "from shapely import geometry\n",
        "import fiona\n",
        "from collections import defaultdict\n",
        "from google.colab import drive\n",
        "from datetime import date, timedelta\n",
        "\n",
        "drive.mount('/content/drive', force_remount=True)\n",
        "\n",
        "FOLDERNAME = 'sustainlab'\n",
        "assert FOLDERNAME is not None, \"[!] Enter the foldername.\"\n",
        "\n",
        "import sys\n",
        "sys.path.append('/content/drive/My Drive/{}'.format(FOLDERNAME))\n",
        "\n",
        "%cd /content/drive/My\\ Drive/$FOLDERNAME/"
      ],
      "execution_count": null,
      "outputs": [
        {
          "output_type": "stream",
          "text": [
            "Mounted at /content/drive\n",
            "/content/drive/My Drive/sustainlab\n"
          ],
          "name": "stdout"
        }
      ]
    },
    {
      "cell_type": "code",
      "metadata": {
        "colab": {
          "base_uri": "https://localhost:8080/"
        },
        "id": "PqI8UyvviXNW",
        "outputId": "d7cb6cf3-fa7e-4122-e65e-c38a09840522"
      },
      "source": [
        "# Import the Earth Engine Python Package\n",
        "import ee\n",
        "\n",
        "# Initialize the Earth Engine object, using the authentication credentials.\n",
        "ee.Authenticate()\n",
        "ee.Initialize()"
      ],
      "execution_count": null,
      "outputs": [
        {
          "output_type": "stream",
          "text": [
            "To authorize access needed by Earth Engine, open the following URL in a web browser and follow the instructions. If the web browser does not start automatically, please manually browse the URL below.\n",
            "\n",
            "    https://accounts.google.com/o/oauth2/auth?client_id=517222506229-vsmmajv00ul0bs7p89v5m89qs8eb9359.apps.googleusercontent.com&scope=https%3A%2F%2Fwww.googleapis.com%2Fauth%2Fearthengine+https%3A%2F%2Fwww.googleapis.com%2Fauth%2Fdevstorage.full_control&redirect_uri=urn%3Aietf%3Awg%3Aoauth%3A2.0%3Aoob&response_type=code&code_challenge=wsAPe7nG-UIvP7zXwOzWxU_mNjHZGhlkBAkiwRa4BsQ&code_challenge_method=S256\n",
            "\n",
            "The authorization workflow will generate a code, which you should paste in the box below. \n",
            "Enter verification code: 4/1AX4XfWh4aBK2fe66rlixAfSJQFPM3a-OtqxDFBmJAhNFDL1h-AUFAFBHF7g\n",
            "\n",
            "Successfully saved authorization token.\n"
          ],
          "name": "stdout"
        }
      ]
    },
    {
      "cell_type": "code",
      "metadata": {
        "id": "i7W5v8AKNkjQ"
      },
      "source": [
        "sentinel = ee.ImageCollection(\"COPERNICUS/S2\").select(['B4', 'B3', 'B2'])\n",
        "landsat = ee.ImageCollection(\"LANDSAT/LC08/C02/T1_L2\").select(['SR_B4', 'SR_B3', 'SR_B2'])"
      ],
      "execution_count": null,
      "outputs": []
    },
    {
      "cell_type": "code",
      "metadata": {
        "id": "xBqFZDOljHTR",
        "colab": {
          "base_uri": "https://localhost:8080/"
        },
        "outputId": "a06667e4-a159-43d3-bd40-c51f756efc05"
      },
      "source": [
        "fname = 'hold'\n",
        "device = 'sentinel'\n",
        "with fiona.open(f'shapefiles/{fname}.shp') as shapefile:\n",
        "    # geoms = [feature['geometry'] for feature in shapefile]\n",
        "    # ids = [feature['properties']['id'] for feature in shapefile]\n",
        "    # dates = [feature['properties']['date'] for feature in shapefile]\n",
        "    i = 0\n",
        "    for j in range(2900*0, len(shapefile)):\n",
        "        feature = shapefile[j]\n",
        "        i += 1\n",
        "        geom = feature['geometry']\n",
        "        geom = geom['coordinates'][0][:4]\n",
        "        xmin = geom[0][0]\n",
        "        ymin = geom[0][1]\n",
        "        xmax = geom[2][0]\n",
        "        ymax = geom[2][1]\n",
        "        geom = ee.Geometry.Rectangle([ymin, xmin, ymax, xmax])\n",
        "        # print([ymin, xmin, ymax, xmax])\n",
        "        id = feature['properties']['id']\n",
        "        capturedate = date.fromisoformat(feature['properties']['date'])\n",
        "        delta = timedelta(days=+35)\n",
        "        startdate = str(capturedate - delta)\n",
        "        enddate = str(capturedate + delta)\n",
        "        # print(id, capturedate)\n",
        "        # print(startdate, enddate)\n",
        "        img = None\n",
        "        if device == 'sentinel':\n",
        "            s2 = sentinel.filter(ee.Filter.date(startdate, enddate)).filterBounds(geom).sort('CLOUDY_PIXEL_PERCENTAGE').first()\n",
        "            img = s2.visualize(min=[0.0, 0.0, 0.0], max=[5000, 5000, 5000])\n",
        "        else:\n",
        "            s2 = landsat.filter(ee.Filter.date(startdate, enddate)).filterBounds(geom).sort('CLOUD_COVER_LAND').first()\n",
        "            img = s2.visualize(min=[0.0, 0.0, 0.0], max=[30000.0, 30000.0, 30000.0])\n",
        "        config = {\n",
        "            'folder':f'xview{device}{fname}',\n",
        "            'scale': 10,\n",
        "            'region': geom\n",
        "        }\n",
        "        task = ee.batch.Export.image.toDrive(img, id, **config)\n",
        "        task.start()\n",
        "        if i%100 == 0:\n",
        "            print(i)\n",
        "        if i == 2900:\n",
        "            print('start next from j=',j,'+1')\n",
        "            break\n",
        "    print(i, 'done')"
      ],
      "execution_count": null,
      "outputs": [
        {
          "output_type": "stream",
          "text": [
            "100\n",
            "200\n",
            "300\n",
            "500\n",
            "600\n",
            "700\n",
            "800\n",
            "900\n",
            "1000\n",
            "1100\n",
            "1200\n",
            "1300\n",
            "1400\n",
            "1500\n",
            "1600\n",
            "1700\n",
            "1800\n",
            "1866 done\n"
          ],
          "name": "stdout"
        }
      ]
    },
    {
      "cell_type": "code",
      "metadata": {
        "colab": {
          "base_uri": "https://localhost:8080/"
        },
        "id": "ulQFDsIz3ibF",
        "outputId": "216ead92-c113-49d4-a8e7-16178f1374fd"
      },
      "source": [
        "while task.status()['state'] in ['READY', 'RUNNING']:\n",
        "  print(task.status())\n",
        "  time.sleep(10)\n",
        "else:\n",
        "  print(task.status())"
      ],
      "execution_count": null,
      "outputs": [
        {
          "output_type": "stream",
          "text": [
            "{'state': 'UNSUBMITTED'}\n"
          ],
          "name": "stdout"
        }
      ]
    },
    {
      "cell_type": "code",
      "metadata": {
        "colab": {
          "base_uri": "https://localhost:8080/"
        },
        "id": "6Fm-k12Z46t7",
        "outputId": "965ffef4-d03c-473c-8edd-c599f8d4f946"
      },
      "source": [
        "!earthengine task list"
      ],
      "execution_count": null,
      "outputs": [
        {
          "output_type": "stream",
          "text": [
            "WARNING:tensorflow:From /usr/local/lib/python3.7/dist-packages/tensorflow/python/compat/v2_compat.py:96: disable_resource_variables (from tensorflow.python.ops.variable_scope) is deprecated and will be removed in a future version.\n",
            "Instructions for updating:\n",
            "non-resource variables are not supported in the long term\n",
            "Please authorize access to your Earth Engine account by running\n",
            "\n",
            "earthengine authenticate\n",
            "\n",
            "in your command line, and then retry.\n"
          ],
          "name": "stdout"
        }
      ]
    },
    {
      "cell_type": "code",
      "metadata": {
        "colab": {
          "base_uri": "https://localhost:8080/"
        },
        "id": "XiE1tO038ilN",
        "outputId": "4998379b-c8fa-44ff-a162-c1574a28d10f"
      },
      "source": [
        "!earthengine task cancel all"
      ],
      "execution_count": null,
      "outputs": [
        {
          "output_type": "stream",
          "text": [
            "WARNING:tensorflow:From /usr/local/lib/python3.7/dist-packages/tensorflow/python/compat/v2_compat.py:96: disable_resource_variables (from tensorflow.python.ops.variable_scope) is deprecated and will be removed in a future version.\n",
            "Instructions for updating:\n",
            "non-resource variables are not supported in the long term\n",
            "Canceling task \"G4FJX6WLIRQAG3DUO3RMNNH3\"\n",
            "Canceling task \"ZH77677KHEI77UPYGAWLJPLI\"\n",
            "Canceling task \"YS3RC674AQNYZ2U5BLPY36A5\"\n",
            "Canceling task \"MIURFSO5PXX7GMVIFEPF63TF\"\n",
            "Canceling task \"DGMHAJIZKL3N23IUSAPR7NNM\"\n",
            "Canceling task \"ERQLTJL7PQIHIR5MTRUZM4UJ\"\n",
            "Canceling task \"DQHNZ3JZXQQ5B27HNVQBTP4H\"\n",
            "Canceling task \"L4N2WAIIEPP26ARCVZJIRLMU\"\n",
            "Canceling task \"4RQNFLJY6UNUYO5QRRIG3RSV\"\n",
            "Canceling task \"GMJPSQJW6D542WNMHTEUWFRE\"\n",
            "Canceling task \"QYXDEI7MMIQJDTDLQUXJVUDI\"\n",
            "Canceling task \"KWQPFWAOLDCNLY6QYRSDRJLK\"\n",
            "Canceling task \"27XIOVWIX6Z7JD4MVGZSIJYG\"\n",
            "Canceling task \"ZFRC36NYS3I4WURXJCFY2BPD\"\n",
            "Canceling task \"TLTL2U7CLSB3JJUXNUKYHWG5\"\n",
            "Canceling task \"6AKTO2MAOUTD6AIO7AWW5TRS\"\n",
            "Canceling task \"AB3C7XHF5SOI5WVXVTIJXT4F\"\n",
            "Canceling task \"GALZNLNCRYXPQNMSEGGNL2DG\"\n",
            "Canceling task \"LAIAVOWSNGNOLEZ7SY4OVNLO\"\n",
            "Canceling task \"CM4C7IZ7O3DG2UERZDM3KQ7L\"\n",
            "Canceling task \"ITAVHVEKJW4FSG4RULXNHPO6\"\n",
            "Canceling task \"QEEMLW3BXR7NRPLWHO5YXVGU\"\n",
            "Canceling task \"JBJJCBCPGE7THAOIBTH4564Y\"\n",
            "Canceling task \"R7OW7TUKRCWI6MBSB47NMIGN\"\n",
            "Canceling task \"P62BPYJAIY6MHNCRVIKZGT2N\"\n",
            "Canceling task \"KQSLK37GY4MN6HP2J5XCRKYG\"\n",
            "Canceling task \"HEO2XDAMCWQIYGKFHKCVJ4GH\"\n",
            "Canceling task \"3FP4KGD4KDWBUZJHXLBAEQAZ\"\n",
            "Canceling task \"FY4QH4XWVOVHURDNCQLJTK6Y\"\n",
            "Canceling task \"6VCW4YY6OO2TEANXAU77ZBIB\"\n",
            "Canceling task \"TEKE3ARH4IVGZA3OLXDW6JW7\"\n",
            "Canceling task \"YGD3ZHJL7KH32LNLU4FYPX2S\"\n",
            "Canceling task \"7NQKKZFN5SNT3AHHCJGXXRGL\"\n",
            "Canceling task \"LNCDCJYPBZ7CY5Q3YHIQCNKN\"\n",
            "Canceling task \"HT4FME6CSMMQOFNPWLVTTYPH\"\n",
            "Canceling task \"WY5GGN3VILDHV3YBWJTES46Q\"\n",
            "Canceling task \"YNK6UM5I2TOPZRAYQBMZXEGM\"\n",
            "Canceling task \"YPMO32SFDACAJ52MB3FBLJKT\"\n",
            "Canceling task \"L4BAMUUC6MGETW6BW2JY6K36\"\n",
            "Canceling task \"ALGAWFEYZWMBTG3KGV4EG6M5\"\n",
            "Canceling task \"26TPFU3SNABZWO26Z5BUWLCB\"\n",
            "Canceling task \"MEHYN5AWPNPJDQ3AKETNS2FR\"\n",
            "Canceling task \"2DZUUPFOEZWUZVLSHVKUP43O\"\n",
            "Canceling task \"HZUIFAIEG5DBRBPRZUQ5NDVG\"\n",
            "Canceling task \"R4VTPXIJ5LAW5XFBXOX6JV2I\"\n",
            "Canceling task \"S5TH3WNZWGGM3UMC2OASG5YI\"\n",
            "Canceling task \"4T4YSC5AMPUHTXT4IGWBFKZZ\"\n",
            "Canceling task \"WF4S25DTNJHVWXL4SADZDSAA\"\n",
            "Canceling task \"HKAYRYB4H7XYTGFZZZAA7ABD\"\n",
            "Canceling task \"2JH7J2HC5GWJIHIHGMHR2HNE\"\n",
            "Canceling task \"PW5723NC7OI6N4RWM5HGSSTS\"\n",
            "Canceling task \"7B55ZTOBIR3TY6KBWMFEURDW\"\n",
            "Canceling task \"NMTSFXVDQMZLBO56KFFPEPJR\"\n",
            "Canceling task \"DSKF764CLIDXFP5NGMPKVSDG\"\n",
            "Canceling task \"GS77C7LTC5TQTDXJTHKQUHOL\"\n",
            "Canceling task \"KKZW6UTBG26NIQUU5AAS7YPU\"\n",
            "Canceling task \"DXVG6A6RNM4WPQW7SVEJ3Y2S\"\n",
            "Canceling task \"DSJJUYJMWCJVNPHJ56TQWOTE\"\n",
            "Canceling task \"EG7VKMJEUGMBGH76Q4CYSI5O\"\n",
            "Canceling task \"ZXQXLUWW4CW3T5A647J6AG4O\"\n",
            "Canceling task \"QQIPLKFPHRNOIWVFOB3AW6YQ\"\n",
            "Canceling task \"BGGESS72CPRJ6WX6KM6S4TOG\"\n",
            "Canceling task \"KL4PQJSRVDJLHMJM6Q76OIDA\"\n",
            "Canceling task \"LF32TG6JE7HD5CX2BGMFS3OF\"\n",
            "Canceling task \"ETLPHOFDRG5EO32AFIQ5A5MV\"\n",
            "Canceling task \"CT3PIZHOEK7P5KU4WLA5DKQ5\"\n",
            "Canceling task \"L6Q3GXRA5MDMZAEMWMLYJPM7\"\n",
            "Canceling task \"KDM5BP4S6HNCNBNMHPVT7OFA\"\n",
            "Canceling task \"C7ZTPGCTJZ4KM364SN62UQO2\"\n",
            "Canceling task \"LNKBDUJFF4UKLUGHUL77C6XM\"\n",
            "Canceling task \"FCHNZDWKU6DUKSB5LZ3LTTMR\"\n",
            "Canceling task \"GYGSOTGZJTVA3ZMA2KLKNGS6\"\n",
            "Canceling task \"6ZPEEEEHN7NNJD5L2XMT6DXR\"\n",
            "Canceling task \"EK5NSMXYOU3Z7NQAZIZCGVEZ\"\n",
            "Canceling task \"JZ3IU4E2WZCRV7FS3NZT4U5G\"\n",
            "Canceling task \"BIMU62AEAKDAQVAT5VXLYYVI\"\n",
            "Canceling task \"NCYH5T7P3RU5UD7O7AYTXIMQ\"\n",
            "Canceling task \"QOLZVQIX52CEUHGYZW2UQYRJ\"\n",
            "Canceling task \"4WMIGGWY4JCTYRP54SBY6FLF\"\n",
            "Canceling task \"R3EIEJJQZCXAIL65YCWW3BJD\"\n",
            "Canceling task \"5OLTQPYZVNNAGAYDUQKSOEZA\"\n",
            "Canceling task \"HEVVLFOZJYKNVPHGBEYIUQGS\"\n",
            "Canceling task \"FPSHN2DCIUCCM4SRQJU5GTXA\"\n",
            "Canceling task \"DXRCU2OCEQDQB2AZ7QVLXXX3\"\n",
            "Canceling task \"MMPDOXSS2W4HC7MPDVEM4ZHR\"\n",
            "Canceling task \"DRJ3JA2CH3OVRG6ZJXZ3U6OP\"\n",
            "Canceling task \"BGP5REWX55W2JPWGUQ3SGMEM\"\n",
            "Canceling task \"SUDDYZU6TQTNUUP5MDH5IILA\"\n",
            "Canceling task \"J553AMIE3S4H6LKUCTLWGGVE\"\n",
            "Canceling task \"CMUBB72LWAJOJHEOYOO7BS5G\"\n",
            "Canceling task \"EFOFGC6CBY2I3W7ZRXGZHOJ7\"\n",
            "Canceling task \"6EIHLGAQJ5YU2RVXWZOGPFZK\"\n",
            "Canceling task \"7ICIAVDSGVGPS3Z7J4XHZUJW\"\n",
            "Canceling task \"5RO6UKEGTOEUGC5H53PKPCAJ\"\n",
            "Canceling task \"MHVE3M37KHA5DWIYR5PJUB4B\"\n",
            "Canceling task \"FEC3XMXLUOABFLVQPOD7OOEJ\"\n",
            "Canceling task \"HCV3MPVMUMF7V4XKMPUPTCCX\"\n",
            "Canceling task \"G5XKM6WQPPSMSEXV6G67PP7O\"\n",
            "Canceling task \"TN2LRXLMLSOH4A63BCOIXKHL\"\n",
            "Canceling task \"VUS34Y26BAEM24OK7C2V2CCK\"\n",
            "Canceling task \"K2VACZF4BMJ5Y3GEIVEUW36Q\"\n",
            "Canceling task \"6UXP7CWL6FFQJZSPRHKKONCP\"\n",
            "Canceling task \"MTZOMATTF6IKTJYSIUZ52G5E\"\n",
            "Canceling task \"IFHO6YLONJIADW5HZJKBKPBH\"\n",
            "Canceling task \"3G4H67KIK3DTXVMZIVBHVP6S\"\n",
            "Canceling task \"BEZ3QUOGNCJWG6PMVKDZ3DCV\"\n",
            "Canceling task \"KJIZGO6NHTIOAFIC7FTTG5XF\"\n",
            "Canceling task \"7F54YDF5VQWVPCJETSZJBZ5C\"\n",
            "Canceling task \"E6I46BZ5QHNO4F4IRH4ERUUG\"\n",
            "Canceling task \"NDH7P5E4B7IEQ6FTOZA7YSSR\"\n",
            "Canceling task \"FJNNBBVW75EY7MRTOIVFM4QH\"\n",
            "Canceling task \"AHIOTLVJSNQLUAKDGS3XFTYP\"\n",
            "Canceling task \"CU5XVL7UXEYPJ3GFFIKLWAGT\"\n",
            "Canceling task \"RUZMYSDOTIXKBGT7OXD6MHVH\"\n",
            "Canceling task \"5HPJJ22NEH7YEKNRF7YUMDKO\"\n",
            "Canceling task \"2IOQLKCK7AIAU4JVVPO3RY5L\"\n",
            "Canceling task \"TU6RDEISU6VRGDYGGQVEC22H\"\n",
            "Canceling task \"6EWI646GN4DPCS2BSBK7E7W4\"\n",
            "Canceling task \"27GYVVO3BQABK2TQBEVTP64Z\"\n",
            "Canceling task \"OG2HTLR7VEVAFGXYBPV4Y26F\"\n",
            "Canceling task \"JUF2QSZKZDW5MRDRUTDBYWX3\"\n",
            "Canceling task \"HO5GIBHYWV7ZVBMRP4MVYFNK\"\n",
            "Canceling task \"YP53D3OFL2GOVEU7KY5MMBQE\"\n",
            "Canceling task \"7JCA7VV73PUH27XH7ES2OQRW\"\n",
            "Canceling task \"RZUYHKYVUTLIGGN7GARB5F45\"\n",
            "Canceling task \"LJC54P7345VEDVMWZ5375RPW\"\n",
            "Canceling task \"DYWWSWXCOWFOOSCDLWRV6LW6\"\n",
            "Canceling task \"4GOUKG4NM7K46X2AMVZAYB76\"\n",
            "Canceling task \"U2MIS3V4L7AMPUF4QG7IGJCQ\"\n",
            "Canceling task \"KIERPVRL76U7YRKX3KTQLQPC\"\n",
            "Canceling task \"2RUHTEV3UYR2B2IWA3PXEJJD\"\n",
            "Canceling task \"I3IY6VPSESEHR274L7TZVAFD\"\n",
            "Canceling task \"77QVMCPHHMOZ7BQDFDDJ2MUC\"\n",
            "Canceling task \"HRVCMYPS4UM54A7C55ARUG4U\"\n",
            "Canceling task \"YDYHYY4VK6UDTYWTYG34PJUB\"\n",
            "Canceling task \"UMRQZSJFS2MW536WY5OGRQP5\"\n",
            "Canceling task \"EXPKKBSEXV5DOF32CWLVJLQD\"\n",
            "Canceling task \"SPPCBHJ5DOLNT2ITLUSQQ5JM\"\n",
            "Canceling task \"4XXFUSL7PMGQW6FM2IW33LKT\"\n",
            "Canceling task \"N2UFZONYBZTPIC2VU3GERSCU\"\n",
            "Canceling task \"TYZ74XXQUR7VVEIA2RQYP3PO\"\n",
            "Canceling task \"2KNQGNONJFNY4RVDZH3LI4RK\"\n",
            "Canceling task \"O2DMFNRMVRHB6JGY5G6WTGNI\"\n",
            "Canceling task \"ENJOMM5ZAJOU2XMF7GPIY64T\"\n",
            "Canceling task \"7BEQFLJT2U6CAUACLONGYUMA\"\n",
            "Canceling task \"FUHYAIPEKGIOLFBHVTYF63ID\"\n",
            "Canceling task \"32RPBOTG4NKZNAY54PM5XAT5\"\n",
            "Canceling task \"LRYTFEHPRUJU5C6GEYZR5QM6\"\n",
            "Canceling task \"ORUZTGTPOOSOZQ3AWWO7HUBH\"\n",
            "Canceling task \"BVZ3J6D63H6Y3UMD4OXZOFQO\"\n",
            "Canceling task \"JYFDC3YOXNM2QEYF3KRE4ZJT\"\n",
            "Canceling task \"BERXULNW44XPVOKBMITD7Z25\"\n",
            "Canceling task \"V3KNRDBPXPXVBYP6S7F4REVR\"\n",
            "Canceling task \"H3CXG6DDSMFZD4OARPSMSHZ6\"\n",
            "Canceling task \"TGKDKNFTRUIKL5GOV6P2MG2H\"\n",
            "Canceling task \"2BMR4CG256WYKZLSWG2IAW2E\"\n",
            "Canceling task \"2NELPQ26P3GYGX5IMLK46GEC\"\n",
            "Canceling task \"MBQCZ7N2MEGH2Q7SALBIORO5\"\n",
            "Canceling task \"IW2VZBTKZZLRJQEKNKUM37R2\"\n",
            "Canceling task \"SAVWGUYYHM5E3XBM67CGPUIX\"\n",
            "Canceling task \"V4FCWDPWUMBSPRX75CSVIX4L\"\n",
            "Canceling task \"RZ3T33ILYU6UCSLTMXDSPIF7\"\n",
            "Canceling task \"CQ2DOKWVFANDQJGBFR2ZNKPH\"\n",
            "Canceling task \"NEKUFQCM7H4UBD4VS5EYS3Q3\"\n",
            "Canceling task \"27B5MQ5EJ4B6EECUDKZAN57W\"\n",
            "Canceling task \"MRBTYJLUFKSQJVVIUQD6VPCD\"\n",
            "Canceling task \"UCXJZQXPSU65TF5JDUKA6VBT\"\n",
            "Canceling task \"3UTCWDI3X7MVJXITULBHTJEG\"\n",
            "Canceling task \"VWDL5EDYSQ374HMF2TMKKZ3V\"\n",
            "Canceling task \"HEDPTBT7PBZ53KS2CZPWHFPU\"\n",
            "Canceling task \"2K3OBIHG7EZCEXTBDKJJ4F6G\"\n",
            "Canceling task \"YEKGN7PS4ZS4KW6X63BTN74B\"\n",
            "Canceling task \"LIT27WPPKGZYPQLHZPDBSW7J\"\n",
            "Canceling task \"QEHYYJZ6NQXWPQGOK7TYNJ3S\"\n",
            "Canceling task \"AEV2NIYIAPO5QOXR3N7XXMBO\"\n",
            "Canceling task \"B3SGSGXTWYIQML6VCNSQK3EJ\"\n",
            "Canceling task \"YIXQMMHFEW6GGC6AMFX33Y5H\"\n",
            "Canceling task \"NSGZLAS3HGXCJAZXM76OAEIF\"\n",
            "Canceling task \"SZSKSJY3JPEECJHRL4Z2ZSJB\"\n",
            "Canceling task \"XA6B5UIQTV6IRLJ4U6GEPF7K\"\n",
            "Canceling task \"M5QUT3DHB6T2UBX25LENHS3F\"\n",
            "Canceling task \"DYBGRBU5COOBPMPMQVKUUSCT\"\n",
            "Canceling task \"GBGT3VUX2XIJHOHMPOHW2B7U\"\n",
            "Canceling task \"XQP5XWD3UGBTV27MC35SFHMQ\"\n",
            "Canceling task \"3AUX45EGO263C67GC6THIHOK\"\n",
            "Canceling task \"SK7SFVZMSMWY73PYK4DIEMI4\"\n",
            "Canceling task \"PXOAFR6B7KIYIEEGH473HXPP\"\n",
            "Canceling task \"7ABOPJ7EVC7FPFTJIPEEYZXO\"\n",
            "Canceling task \"SS2OGK5DV3CISP6KMDHFT6HC\"\n",
            "Canceling task \"EM67ICIDVIJBQ2MVPA6ASZ5N\"\n",
            "Canceling task \"GNQFOLS5ON6M2BV5FIQUMGWF\"\n",
            "Canceling task \"YWZX7VR2BF4YIVKKWXWE6URM\"\n",
            "Canceling task \"4AR745AL2IJR67MGU6CC54BL\"\n",
            "Canceling task \"MWVKRD4Y77VQXDA3FW4H2SGL\"\n",
            "Canceling task \"BSK7QLF5ZQPDAXDY3PMGLU42\"\n",
            "Canceling task \"ERKFI7TD3VIS6UNKLSLL3GMS\"\n",
            "Canceling task \"4AV5YLPBKRLFALDGS3ESGGZJ\"\n",
            "Canceling task \"M4F5SB6WVPE63LU3LABWJT2K\"\n",
            "Canceling task \"BWJIEW7CZPSAW6NVWM5XGNB2\"\n",
            "Canceling task \"IBZUSX22W65FDPWTSSTKV5AZ\"\n",
            "Canceling task \"GTWPF7G7LJUL4MRQB2GKYHI4\"\n",
            "Canceling task \"L2QD6TFYGDNFTORGHL3O5HBT\"\n",
            "Canceling task \"ZKQFWWRNP2MKSLKNTY4EX3GH\"\n",
            "Canceling task \"2L2HHY7YY3Q4R6RAHET2WFK4\"\n",
            "Canceling task \"7RWNSIJW4554ZCLVGP5C3UBU\"\n",
            "Canceling task \"6E3EKC7DCXP4W3OCNKB7AH5G\"\n",
            "Canceling task \"TCA46HOIUDQ6RRHBFNLWKQDR\"\n",
            "Canceling task \"MOHEH2JMVSWYF27ZBE7OC35T\"\n",
            "Canceling task \"2NPJQHI55EUHOVHT3EGSYQAA\"\n",
            "Canceling task \"IGKNQYNX2W4F2O4MYFPMSNYQ\"\n",
            "Canceling task \"IXLZJ6H7N4XPIMQA4OCVDT7U\"\n",
            "Canceling task \"DDFCXTIWH5MFV6ZILJDLDF7N\"\n",
            "Canceling task \"SDZ46E3E3HZL2SYIKDHGPBUG\"\n",
            "Canceling task \"DOCGUWEAMOV4AVJCYHYWAER6\"\n",
            "Canceling task \"OGQPMAM3AGBN74N4VCFSZGZP\"\n"
          ],
          "name": "stdout"
        }
      ]
    }
  ]
}